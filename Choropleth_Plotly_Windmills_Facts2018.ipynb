{
 "cells": [
  {
   "cell_type": "code",
   "execution_count": 93,
   "metadata": {},
   "outputs": [],
   "source": [
    "import pandas as pd\n",
    "import numpy as np\n",
    "import matplotlib.pyplot as plt\n",
    "%matplotlib inline\n",
    "import plotly.offline as pyo\n",
    "import plotly.graph_objs as go"
   ]
  },
  {
   "cell_type": "code",
   "execution_count": 2,
   "metadata": {},
   "outputs": [],
   "source": [
    "df = pd.read_excel(r'C:\\Users\\Mi Notebook\\Downloads\\US State Wind Energy Facts 2018.xlsx')"
   ]
  },
  {
   "cell_type": "code",
   "execution_count": 3,
   "metadata": {},
   "outputs": [],
   "source": [
    "df.drop(df.index[40:], inplace=True)"
   ]
  },
  {
   "cell_type": "code",
   "execution_count": 4,
   "metadata": {},
   "outputs": [],
   "source": [
    "df['$ per Turbine'] = (df['Total Investment ($ Millions)']/df['# of Wind Turbines']).round(2)"
   ]
  },
  {
   "cell_type": "code",
   "execution_count": 5,
   "metadata": {},
   "outputs": [
    {
     "name": "stdout",
     "output_type": "stream",
     "text": [
      "<class 'pandas.core.frame.DataFrame'>\n",
      "Int64Index: 40 entries, 0 to 39\n",
      "Data columns (total 8 columns):\n",
      "Ranking                          40 non-null float64\n",
      "State                            40 non-null object\n",
      "Installed Capacity (MW)          40 non-null int64\n",
      "Equivalent Homes Powered         40 non-null float64\n",
      "Total Investment ($ Millions)    40 non-null float64\n",
      "Wind Projects Online             40 non-null int64\n",
      "# of Wind Turbines               40 non-null float64\n",
      "$ per Turbine                    40 non-null float64\n",
      "dtypes: float64(5), int64(2), object(1)\n",
      "memory usage: 2.8+ KB\n"
     ]
    }
   ],
   "source": [
    "df.info()"
   ]
  },
  {
   "cell_type": "code",
   "execution_count": 6,
   "metadata": {},
   "outputs": [],
   "source": [
    "abr = pd.read_excel(r'C:\\Users\\Mi Notebook\\Desktop\\US_STATES_Abbreviations.xlsx')"
   ]
  },
  {
   "cell_type": "code",
   "execution_count": 67,
   "metadata": {},
   "outputs": [],
   "source": [
    "# df['State'] = df['State'].str.encode('utf-8')\n",
    "# abr['State'] = abr['State'].str.encode('utf-8')\n",
    "df['State'] = df['State'].str.strip()\n",
    "abr['State'] = abr['State'].str.strip()\n",
    "result = pd.merge(df, abr, how='inner', on='State')"
   ]
  },
  {
   "cell_type": "code",
   "execution_count": 68,
   "metadata": {},
   "outputs": [
    {
     "data": {
      "text/html": [
       "<div>\n",
       "<style scoped>\n",
       "    .dataframe tbody tr th:only-of-type {\n",
       "        vertical-align: middle;\n",
       "    }\n",
       "\n",
       "    .dataframe tbody tr th {\n",
       "        vertical-align: top;\n",
       "    }\n",
       "\n",
       "    .dataframe thead th {\n",
       "        text-align: right;\n",
       "    }\n",
       "</style>\n",
       "<table border=\"1\" class=\"dataframe\">\n",
       "  <thead>\n",
       "    <tr style=\"text-align: right;\">\n",
       "      <th></th>\n",
       "      <th>Ranking</th>\n",
       "      <th>State</th>\n",
       "      <th>Installed Capacity (MW)</th>\n",
       "      <th>Equivalent Homes Powered</th>\n",
       "      <th>Total Investment ($ Millions)</th>\n",
       "      <th>Wind Projects Online</th>\n",
       "      <th># of Wind Turbines</th>\n",
       "      <th>$ per Turbine</th>\n",
       "      <th>Abbreviation</th>\n",
       "    </tr>\n",
       "  </thead>\n",
       "  <tbody>\n",
       "    <tr>\n",
       "      <th>0</th>\n",
       "      <td>1.0</td>\n",
       "      <td>TEXAS</td>\n",
       "      <td>23262</td>\n",
       "      <td>6235000.0</td>\n",
       "      <td>42000.0</td>\n",
       "      <td>136</td>\n",
       "      <td>12750.0</td>\n",
       "      <td>3.29</td>\n",
       "      <td>TX</td>\n",
       "    </tr>\n",
       "    <tr>\n",
       "      <th>1</th>\n",
       "      <td>2.0</td>\n",
       "      <td>OKLAHOMA</td>\n",
       "      <td>7495</td>\n",
       "      <td>2268000.0</td>\n",
       "      <td>13700.0</td>\n",
       "      <td>45</td>\n",
       "      <td>3717.0</td>\n",
       "      <td>3.69</td>\n",
       "      <td>OK</td>\n",
       "    </tr>\n",
       "    <tr>\n",
       "      <th>2</th>\n",
       "      <td>3.0</td>\n",
       "      <td>IOWA</td>\n",
       "      <td>7312</td>\n",
       "      <td>1935000.0</td>\n",
       "      <td>14200.0</td>\n",
       "      <td>107</td>\n",
       "      <td>4145.0</td>\n",
       "      <td>3.43</td>\n",
       "      <td>IA</td>\n",
       "    </tr>\n",
       "    <tr>\n",
       "      <th>3</th>\n",
       "      <td>4.0</td>\n",
       "      <td>CALIFORNIA</td>\n",
       "      <td>5686</td>\n",
       "      <td>1298000.0</td>\n",
       "      <td>12600.0</td>\n",
       "      <td>104</td>\n",
       "      <td>6972.0</td>\n",
       "      <td>1.81</td>\n",
       "      <td>CA</td>\n",
       "    </tr>\n",
       "    <tr>\n",
       "      <th>4</th>\n",
       "      <td>5.0</td>\n",
       "      <td>KANSAS</td>\n",
       "      <td>5110</td>\n",
       "      <td>1719000.0</td>\n",
       "      <td>9400.0</td>\n",
       "      <td>35</td>\n",
       "      <td>2795.0</td>\n",
       "      <td>3.36</td>\n",
       "      <td>KS</td>\n",
       "    </tr>\n",
       "  </tbody>\n",
       "</table>\n",
       "</div>"
      ],
      "text/plain": [
       "   Ranking       State  Installed Capacity (MW)  Equivalent Homes Powered  \\\n",
       "0      1.0       TEXAS                    23262                 6235000.0   \n",
       "1      2.0    OKLAHOMA                     7495                 2268000.0   \n",
       "2      3.0        IOWA                     7312                 1935000.0   \n",
       "3      4.0  CALIFORNIA                     5686                 1298000.0   \n",
       "4      5.0      KANSAS                     5110                 1719000.0   \n",
       "\n",
       "   Total Investment ($ Millions)  Wind Projects Online  # of Wind Turbines  \\\n",
       "0                        42000.0                   136             12750.0   \n",
       "1                        13700.0                    45              3717.0   \n",
       "2                        14200.0                   107              4145.0   \n",
       "3                        12600.0                   104              6972.0   \n",
       "4                         9400.0                    35              2795.0   \n",
       "\n",
       "   $ per Turbine Abbreviation  \n",
       "0           3.29           TX  \n",
       "1           3.69           OK  \n",
       "2           3.43           IA  \n",
       "3           1.81           CA  \n",
       "4           3.36           KS  "
      ]
     },
     "execution_count": 68,
     "metadata": {},
     "output_type": "execute_result"
    }
   ],
   "source": [
    "result['Abbreviation'] = result['Abbreviation'].str.strip()\n",
    "result.head()"
   ]
  },
  {
   "cell_type": "code",
   "execution_count": 69,
   "metadata": {},
   "outputs": [],
   "source": [
    "geo_sites = pd.read_excel(r'C:\\Users\\Mi Notebook\\Desktop\\Capitals_Geo_Pos.xlsx')\n",
    "geo_sites['STATE_ABBR'] = geo_sites['STATE_ABBR'].str.strip()"
   ]
  },
  {
   "cell_type": "code",
   "execution_count": 70,
   "metadata": {},
   "outputs": [],
   "source": [
    "result['Abbreviation'] = result['Abbreviation'].str.encode('utf-8')\n",
    "geo_sites['STATE_ABBR'] = geo_sites['STATE_ABBR'].str.encode('utf-8')"
   ]
  },
  {
   "cell_type": "code",
   "execution_count": 71,
   "metadata": {},
   "outputs": [
    {
     "data": {
      "text/html": [
       "<div>\n",
       "<style scoped>\n",
       "    .dataframe tbody tr th:only-of-type {\n",
       "        vertical-align: middle;\n",
       "    }\n",
       "\n",
       "    .dataframe tbody tr th {\n",
       "        vertical-align: top;\n",
       "    }\n",
       "\n",
       "    .dataframe thead th {\n",
       "        text-align: right;\n",
       "    }\n",
       "</style>\n",
       "<table border=\"1\" class=\"dataframe\">\n",
       "  <thead>\n",
       "    <tr style=\"text-align: right;\">\n",
       "      <th></th>\n",
       "      <th>STATE</th>\n",
       "      <th>STATE_ABBR</th>\n",
       "      <th>LATITUDE</th>\n",
       "      <th>LONGITUDE</th>\n",
       "    </tr>\n",
       "  </thead>\n",
       "  <tbody>\n",
       "    <tr>\n",
       "      <th>0</th>\n",
       "      <td>ALABAMA</td>\n",
       "      <td>b'AL'</td>\n",
       "      <td>32.806671</td>\n",
       "      <td>-86.791130</td>\n",
       "    </tr>\n",
       "    <tr>\n",
       "      <th>1</th>\n",
       "      <td>ALASKA</td>\n",
       "      <td>b'AK'</td>\n",
       "      <td>61.370716</td>\n",
       "      <td>-152.404419</td>\n",
       "    </tr>\n",
       "    <tr>\n",
       "      <th>2</th>\n",
       "      <td>ARIZONA</td>\n",
       "      <td>b'AZ'</td>\n",
       "      <td>33.729759</td>\n",
       "      <td>-111.431221</td>\n",
       "    </tr>\n",
       "    <tr>\n",
       "      <th>3</th>\n",
       "      <td>ARKANSAS</td>\n",
       "      <td>b'AR'</td>\n",
       "      <td>34.969704</td>\n",
       "      <td>-92.373123</td>\n",
       "    </tr>\n",
       "    <tr>\n",
       "      <th>4</th>\n",
       "      <td>CALIFORNIA</td>\n",
       "      <td>b'CA'</td>\n",
       "      <td>36.116203</td>\n",
       "      <td>-119.681564</td>\n",
       "    </tr>\n",
       "  </tbody>\n",
       "</table>\n",
       "</div>"
      ],
      "text/plain": [
       "        STATE STATE_ABBR   LATITUDE   LONGITUDE\n",
       "0     ALABAMA      b'AL'  32.806671  -86.791130\n",
       "1      ALASKA      b'AK'  61.370716 -152.404419\n",
       "2     ARIZONA      b'AZ'  33.729759 -111.431221\n",
       "3    ARKANSAS      b'AR'  34.969704  -92.373123\n",
       "4  CALIFORNIA      b'CA'  36.116203 -119.681564"
      ]
     },
     "execution_count": 71,
     "metadata": {},
     "output_type": "execute_result"
    }
   ],
   "source": [
    "geo_sites.head()"
   ]
  },
  {
   "cell_type": "code",
   "execution_count": 72,
   "metadata": {},
   "outputs": [],
   "source": [
    "result = pd.merge(result, geo_sites, how='inner', left_on='Abbreviation', right_on='STATE_ABBR')"
   ]
  },
  {
   "cell_type": "code",
   "execution_count": 88,
   "metadata": {},
   "outputs": [],
   "source": [
    "columns_to_int = ['Equivalent Homes Powered', 'Total Investment ($ Millions)','# of Wind Turbines']"
   ]
  },
  {
   "cell_type": "code",
   "execution_count": 89,
   "metadata": {},
   "outputs": [],
   "source": [
    "for col in columns_to_int:\n",
    "    result[col] = result[col].astype(int)"
   ]
  },
  {
   "cell_type": "code",
   "execution_count": 92,
   "metadata": {},
   "outputs": [
    {
     "data": {
      "text/html": [
       "<div>\n",
       "<style scoped>\n",
       "    .dataframe tbody tr th:only-of-type {\n",
       "        vertical-align: middle;\n",
       "    }\n",
       "\n",
       "    .dataframe tbody tr th {\n",
       "        vertical-align: top;\n",
       "    }\n",
       "\n",
       "    .dataframe thead th {\n",
       "        text-align: right;\n",
       "    }\n",
       "</style>\n",
       "<table border=\"1\" class=\"dataframe\">\n",
       "  <thead>\n",
       "    <tr style=\"text-align: right;\">\n",
       "      <th></th>\n",
       "      <th>Ranking</th>\n",
       "      <th>State</th>\n",
       "      <th>Installed Capacity (MW)</th>\n",
       "      <th>Equivalent Homes Powered</th>\n",
       "      <th>Total Investment ($ Millions)</th>\n",
       "      <th>Wind Projects Online</th>\n",
       "      <th># of Wind Turbines</th>\n",
       "      <th>$ per Turbine</th>\n",
       "      <th>Abbreviation</th>\n",
       "      <th>LATITUDE</th>\n",
       "      <th>LONGITUDE</th>\n",
       "      <th>text</th>\n",
       "    </tr>\n",
       "  </thead>\n",
       "  <tbody>\n",
       "    <tr>\n",
       "      <th>0</th>\n",
       "      <td>1.0</td>\n",
       "      <td>TEXAS</td>\n",
       "      <td>23262</td>\n",
       "      <td>6235000</td>\n",
       "      <td>42000</td>\n",
       "      <td>136</td>\n",
       "      <td>12750</td>\n",
       "      <td>3.29</td>\n",
       "      <td>TX</td>\n",
       "      <td>31.054487</td>\n",
       "      <td>-97.563461</td>\n",
       "      <td>Total Investment ($ mln):42000&lt;br&gt;Number of Wi...</td>\n",
       "    </tr>\n",
       "    <tr>\n",
       "      <th>1</th>\n",
       "      <td>2.0</td>\n",
       "      <td>OKLAHOMA</td>\n",
       "      <td>7495</td>\n",
       "      <td>2268000</td>\n",
       "      <td>13700</td>\n",
       "      <td>45</td>\n",
       "      <td>3717</td>\n",
       "      <td>3.69</td>\n",
       "      <td>OK</td>\n",
       "      <td>35.565342</td>\n",
       "      <td>-96.928917</td>\n",
       "      <td>Total Investment ($ mln):13700&lt;br&gt;Number of Wi...</td>\n",
       "    </tr>\n",
       "    <tr>\n",
       "      <th>2</th>\n",
       "      <td>3.0</td>\n",
       "      <td>IOWA</td>\n",
       "      <td>7312</td>\n",
       "      <td>1935000</td>\n",
       "      <td>14200</td>\n",
       "      <td>107</td>\n",
       "      <td>4145</td>\n",
       "      <td>3.43</td>\n",
       "      <td>IA</td>\n",
       "      <td>42.011539</td>\n",
       "      <td>-93.210526</td>\n",
       "      <td>Total Investment ($ mln):14200&lt;br&gt;Number of Wi...</td>\n",
       "    </tr>\n",
       "    <tr>\n",
       "      <th>3</th>\n",
       "      <td>4.0</td>\n",
       "      <td>CALIFORNIA</td>\n",
       "      <td>5686</td>\n",
       "      <td>1298000</td>\n",
       "      <td>12600</td>\n",
       "      <td>104</td>\n",
       "      <td>6972</td>\n",
       "      <td>1.81</td>\n",
       "      <td>CA</td>\n",
       "      <td>36.116203</td>\n",
       "      <td>-119.681564</td>\n",
       "      <td>Total Investment ($ mln):12600&lt;br&gt;Number of Wi...</td>\n",
       "    </tr>\n",
       "    <tr>\n",
       "      <th>4</th>\n",
       "      <td>5.0</td>\n",
       "      <td>KANSAS</td>\n",
       "      <td>5110</td>\n",
       "      <td>1719000</td>\n",
       "      <td>9400</td>\n",
       "      <td>35</td>\n",
       "      <td>2795</td>\n",
       "      <td>3.36</td>\n",
       "      <td>KS</td>\n",
       "      <td>38.526600</td>\n",
       "      <td>-96.726486</td>\n",
       "      <td>Total Investment ($ mln):9400&lt;br&gt;Number of Win...</td>\n",
       "    </tr>\n",
       "  </tbody>\n",
       "</table>\n",
       "</div>"
      ],
      "text/plain": [
       "   Ranking       State  Installed Capacity (MW)  Equivalent Homes Powered  \\\n",
       "0      1.0       TEXAS                    23262                   6235000   \n",
       "1      2.0    OKLAHOMA                     7495                   2268000   \n",
       "2      3.0        IOWA                     7312                   1935000   \n",
       "3      4.0  CALIFORNIA                     5686                   1298000   \n",
       "4      5.0      KANSAS                     5110                   1719000   \n",
       "\n",
       "   Total Investment ($ Millions)  Wind Projects Online  # of Wind Turbines  \\\n",
       "0                          42000                   136               12750   \n",
       "1                          13700                    45                3717   \n",
       "2                          14200                   107                4145   \n",
       "3                          12600                   104                6972   \n",
       "4                           9400                    35                2795   \n",
       "\n",
       "   $ per Turbine Abbreviation   LATITUDE   LONGITUDE  \\\n",
       "0           3.29           TX  31.054487  -97.563461   \n",
       "1           3.69           OK  35.565342  -96.928917   \n",
       "2           3.43           IA  42.011539  -93.210526   \n",
       "3           1.81           CA  36.116203 -119.681564   \n",
       "4           3.36           KS  38.526600  -96.726486   \n",
       "\n",
       "                                                text  \n",
       "0  Total Investment ($ mln):42000<br>Number of Wi...  \n",
       "1  Total Investment ($ mln):13700<br>Number of Wi...  \n",
       "2  Total Investment ($ mln):14200<br>Number of Wi...  \n",
       "3  Total Investment ($ mln):12600<br>Number of Wi...  \n",
       "4  Total Investment ($ mln):9400<br>Number of Win...  "
      ]
     },
     "execution_count": 92,
     "metadata": {},
     "output_type": "execute_result"
    }
   ],
   "source": [
    "result.head()"
   ]
  },
  {
   "cell_type": "code",
   "execution_count": 74,
   "metadata": {},
   "outputs": [],
   "source": [
    "result.drop(columns=['STATE','STATE_ABBR'], inplace=True)"
   ]
  },
  {
   "cell_type": "code",
   "execution_count": 76,
   "metadata": {},
   "outputs": [],
   "source": [
    "result['Abbreviation'] = result['Abbreviation'].str.decode('utf-8') "
   ]
  },
  {
   "cell_type": "code",
   "execution_count": 91,
   "metadata": {},
   "outputs": [],
   "source": [
    "result['text'] = 'Total Investment ($ mln):' + result['Total Investment ($ Millions)'].astype(str)  + '<br>' + 'Number of Wind Turbines:'+ result['# of Wind Turbines'].astype(str) + '<br>' + 'Equivalent Homes Powered:'+ result['Equivalent Homes Powered'].astype(str) + '<br>' + result['State']   "
   ]
  },
  {
   "cell_type": "code",
   "execution_count": 94,
   "metadata": {},
   "outputs": [
    {
     "data": {
      "text/plain": [
       "'file://C:\\\\Users\\\\Mi Notebook\\\\US_CHOROPLETH_PLOTLY_NEW.html'"
      ]
     },
     "execution_count": 94,
     "metadata": {},
     "output_type": "execute_result"
    }
   ],
   "source": [
    "trace1 = [ dict(\n",
    "        type='choropleth',\n",
    "        locations = result['Abbreviation'],\n",
    "        z = result[\"Installed Capacity (MW)\"].astype(float),\n",
    "        locationmode = 'USA-states',\n",
    "        text = '',\n",
    "        marker = dict(\n",
    "            line = dict (\n",
    "                color = 'rgb(255,255,255)',\n",
    "                width = 2\n",
    "            ) ),\n",
    "        colorbar = dict(\n",
    "            title = \"Installed Capacity (MW)\")\n",
    "        ) ]\n",
    "\n",
    "trace2 = [ dict(\n",
    "        type = 'scattergeo',\n",
    "        locationmode = 'USA-states',\n",
    "        lon = result[\"LONGITUDE\"],\n",
    "        lat = result[\"LATITUDE\"],\n",
    "        hoverinfo = 'text',\n",
    "        text = result['text'],\n",
    "        mode = 'markers',\n",
    "        marker = dict(\n",
    "            size=result['$ per Turbine']*3,\n",
    "            color='rgb(255, 0, 0)',\n",
    "            line = dict(\n",
    "                width=3,\n",
    "                color='blue'\n",
    "            )\n",
    "        ))]\n",
    "    \n",
    "layout = dict(\n",
    "        title = 'US State Wind Energy Facts 2018',\n",
    "        showlegend = False,\n",
    "        geo = dict(\n",
    "            scope='usa',\n",
    "            projection=dict( type='albers usa' ),\n",
    "            showland = True,\n",
    "            landcolor = 'rgb(243, 243, 243)',\n",
    "            countrycolor = 'rgb(204, 204, 204)',\n",
    "        ),\n",
    "    )    \n",
    "    \n",
    "    \n",
    "fig = dict( data=trace1 + trace2, layout=layout )\n",
    "\n",
    "pyo.plot(fig, filename='US_CHOROPLETH_PLOTLY_NEW.html')"
   ]
  },
  {
   "cell_type": "code",
   "execution_count": null,
   "metadata": {},
   "outputs": [],
   "source": []
  }
 ],
 "metadata": {
  "kernelspec": {
   "display_name": "Python 3",
   "language": "python",
   "name": "python3"
  },
  "language_info": {
   "codemirror_mode": {
    "name": "ipython",
    "version": 3
   },
   "file_extension": ".py",
   "mimetype": "text/x-python",
   "name": "python",
   "nbconvert_exporter": "python",
   "pygments_lexer": "ipython3",
   "version": "3.6.5"
  }
 },
 "nbformat": 4,
 "nbformat_minor": 2
}
