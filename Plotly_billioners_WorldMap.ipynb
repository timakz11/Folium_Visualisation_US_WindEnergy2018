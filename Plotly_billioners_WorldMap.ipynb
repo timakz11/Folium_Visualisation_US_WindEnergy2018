{
 "cells": [
  {
   "cell_type": "code",
   "execution_count": 1,
   "metadata": {},
   "outputs": [],
   "source": [
    "import pandas as pd\n",
    "import numpy as np\n",
    "import matplotlib.pyplot as plt\n",
    "%matplotlib inline"
   ]
  },
  {
   "cell_type": "code",
   "execution_count": 203,
   "metadata": {},
   "outputs": [
    {
     "data": {
      "text/html": [
       "<script>requirejs.config({paths: { 'plotly': ['https://cdn.plot.ly/plotly-latest.min']},});if(!window.Plotly) {{require(['plotly'],function(plotly) {window.Plotly=plotly;});}}</script>"
      ],
      "text/vnd.plotly.v1+html": [
       "<script>requirejs.config({paths: { 'plotly': ['https://cdn.plot.ly/plotly-latest.min']},});if(!window.Plotly) {{require(['plotly'],function(plotly) {window.Plotly=plotly;});}}</script>"
      ]
     },
     "metadata": {},
     "output_type": "display_data"
    }
   ],
   "source": [
    "import plotly.offline as pyo\n",
    "import plotly.graph_objs as go\n",
    "import plotly.figure_factory as ff\n",
    "from plotly.offline import download_plotlyjs, init_notebook_mode, plot, iplot\n",
    "init_notebook_mode(connected=True)"
   ]
  },
  {
   "cell_type": "code",
   "execution_count": 34,
   "metadata": {},
   "outputs": [],
   "source": [
    "df = pd.read_excel(r'C:\\Users\\Mi Notebook\\Desktop\\billionaires_2018.xlsx')"
   ]
  },
  {
   "cell_type": "code",
   "execution_count": 35,
   "metadata": {},
   "outputs": [
    {
     "data": {
      "text/html": [
       "<div>\n",
       "<style scoped>\n",
       "    .dataframe tbody tr th:only-of-type {\n",
       "        vertical-align: middle;\n",
       "    }\n",
       "\n",
       "    .dataframe tbody tr th {\n",
       "        vertical-align: top;\n",
       "    }\n",
       "\n",
       "    .dataframe thead th {\n",
       "        text-align: right;\n",
       "    }\n",
       "</style>\n",
       "<table border=\"1\" class=\"dataframe\">\n",
       "  <thead>\n",
       "    <tr style=\"text-align: right;\">\n",
       "      <th></th>\n",
       "      <th>Rank</th>\n",
       "      <th>Name</th>\n",
       "      <th>Net Worth</th>\n",
       "      <th>Age</th>\n",
       "      <th>Source</th>\n",
       "      <th>Country of Citizenship</th>\n",
       "    </tr>\n",
       "  </thead>\n",
       "  <tbody>\n",
       "    <tr>\n",
       "      <th>0</th>\n",
       "      <td>#1</td>\n",
       "      <td>Jeff Bezos</td>\n",
       "      <td>$112 B</td>\n",
       "      <td>54</td>\n",
       "      <td>Amazon</td>\n",
       "      <td>United States</td>\n",
       "    </tr>\n",
       "    <tr>\n",
       "      <th>1</th>\n",
       "      <td>#2</td>\n",
       "      <td>Bill Gates</td>\n",
       "      <td>$90 B</td>\n",
       "      <td>62</td>\n",
       "      <td>Microsoft</td>\n",
       "      <td>United States</td>\n",
       "    </tr>\n",
       "    <tr>\n",
       "      <th>2</th>\n",
       "      <td>#3</td>\n",
       "      <td>Warren Buffett</td>\n",
       "      <td>$84 B</td>\n",
       "      <td>87</td>\n",
       "      <td>Berkshire Hathaway</td>\n",
       "      <td>United States</td>\n",
       "    </tr>\n",
       "    <tr>\n",
       "      <th>3</th>\n",
       "      <td>#4</td>\n",
       "      <td>Bernard Arnault</td>\n",
       "      <td>$72 B</td>\n",
       "      <td>69</td>\n",
       "      <td>LVMH</td>\n",
       "      <td>France</td>\n",
       "    </tr>\n",
       "    <tr>\n",
       "      <th>4</th>\n",
       "      <td>#5</td>\n",
       "      <td>Mark Zuckerberg</td>\n",
       "      <td>$71 B</td>\n",
       "      <td>34</td>\n",
       "      <td>Facebook</td>\n",
       "      <td>United States</td>\n",
       "    </tr>\n",
       "  </tbody>\n",
       "</table>\n",
       "</div>"
      ],
      "text/plain": [
       "  Rank             Name Net Worth Age              Source  \\\n",
       "0   #1       Jeff Bezos    $112 B  54              Amazon   \n",
       "1   #2       Bill Gates     $90 B  62           Microsoft   \n",
       "2   #3   Warren Buffett     $84 B  87  Berkshire Hathaway   \n",
       "3   #4  Bernard Arnault     $72 B  69                LVMH   \n",
       "4   #5  Mark Zuckerberg     $71 B  34            Facebook   \n",
       "\n",
       "  Country of Citizenship  \n",
       "0          United States  \n",
       "1          United States  \n",
       "2          United States  \n",
       "3                 France  \n",
       "4          United States  "
      ]
     },
     "execution_count": 35,
     "metadata": {},
     "output_type": "execute_result"
    }
   ],
   "source": [
    "df.head()"
   ]
  },
  {
   "cell_type": "code",
   "execution_count": 36,
   "metadata": {},
   "outputs": [],
   "source": [
    "df['Net Worth'] = df['Net Worth'].str.replace('$', '')"
   ]
  },
  {
   "cell_type": "code",
   "execution_count": 37,
   "metadata": {},
   "outputs": [],
   "source": [
    "df['Net Worth'] = df['Net Worth'].str.replace(' B', '')"
   ]
  },
  {
   "cell_type": "code",
   "execution_count": 38,
   "metadata": {},
   "outputs": [],
   "source": [
    "df['Net Worth'] = df['Net Worth'].astype(float)"
   ]
  },
  {
   "cell_type": "code",
   "execution_count": 32,
   "metadata": {},
   "outputs": [],
   "source": [
    "df['Age'] = df['Age'].str.replace('-', '')"
   ]
  },
  {
   "cell_type": "code",
   "execution_count": 30,
   "metadata": {},
   "outputs": [
    {
     "name": "stdout",
     "output_type": "stream",
     "text": [
      "<class 'pandas.core.frame.DataFrame'>\n",
      "RangeIndex: 2116 entries, 0 to 2115\n",
      "Data columns (total 6 columns):\n",
      "Rank                      2110 non-null object\n",
      "Name                      2110 non-null object\n",
      "Net Worth                 2110 non-null float64\n",
      "Age                       2110 non-null object\n",
      "Source                    2110 non-null object\n",
      "Country of Citizenship    2110 non-null object\n",
      "dtypes: float64(1), object(5)\n",
      "memory usage: 99.3+ KB\n"
     ]
    }
   ],
   "source": [
    "df.info()"
   ]
  },
  {
   "cell_type": "code",
   "execution_count": 62,
   "metadata": {
    "scrolled": true
   },
   "outputs": [
    {
     "name": "stderr",
     "output_type": "stream",
     "text": [
      "C:\\Users\\Mi Notebook\\Anaconda3\\lib\\site-packages\\ipykernel_launcher.py:1: SettingWithCopyWarning: \n",
      "A value is trying to be set on a copy of a slice from a DataFrame.\n",
      "Try using .loc[row_indexer,col_indexer] = value instead\n",
      "\n",
      "See the caveats in the documentation: http://pandas.pydata.org/pandas-docs/stable/indexing.html#indexing-view-versus-copy\n",
      "  \"\"\"Entry point for launching an IPython kernel.\n"
     ]
    }
   ],
   "source": [
    "df.loc[df['Age']=='-']['Age'] = '0'"
   ]
  },
  {
   "cell_type": "code",
   "execution_count": 66,
   "metadata": {},
   "outputs": [
    {
     "name": "stderr",
     "output_type": "stream",
     "text": [
      "C:\\Users\\Mi Notebook\\Anaconda3\\lib\\site-packages\\ipykernel_launcher.py:1: SettingWithCopyWarning: \n",
      "A value is trying to be set on a copy of a slice from a DataFrame.\n",
      "Try using .loc[row_indexer,col_indexer] = value instead\n",
      "\n",
      "See the caveats in the documentation: http://pandas.pydata.org/pandas-docs/stable/indexing.html#indexing-view-versus-copy\n",
      "  \"\"\"Entry point for launching an IPython kernel.\n"
     ]
    }
   ],
   "source": [
    "df[df['Age']=='-']['Age'] = df[df['Age']=='-']['Age'].replace('-', '0')"
   ]
  },
  {
   "cell_type": "code",
   "execution_count": 73,
   "metadata": {},
   "outputs": [],
   "source": [
    "listin = df['Age']"
   ]
  },
  {
   "cell_type": "code",
   "execution_count": 81,
   "metadata": {},
   "outputs": [],
   "source": [
    "listin = list(listin)"
   ]
  },
  {
   "cell_type": "code",
   "execution_count": 85,
   "metadata": {},
   "outputs": [],
   "source": [
    "for_change = [0 if x == '-' else x for x in listin]"
   ]
  },
  {
   "cell_type": "code",
   "execution_count": 87,
   "metadata": {},
   "outputs": [],
   "source": [
    "df['AGE']= for_change"
   ]
  },
  {
   "cell_type": "code",
   "execution_count": 92,
   "metadata": {},
   "outputs": [
    {
     "name": "stdout",
     "output_type": "stream",
     "text": [
      "<class 'pandas.core.frame.DataFrame'>\n",
      "RangeIndex: 2116 entries, 0 to 2115\n",
      "Data columns (total 7 columns):\n",
      "Rank                      2110 non-null object\n",
      "Name                      2110 non-null object\n",
      "Net Worth                 2110 non-null float64\n",
      "Age                       2110 non-null object\n",
      "Source                    2110 non-null object\n",
      "Country of Citizenship    2110 non-null object\n",
      "AGE                       2110 non-null float64\n",
      "dtypes: float64(2), object(5)\n",
      "memory usage: 115.8+ KB\n"
     ]
    }
   ],
   "source": [
    "df.info()"
   ]
  },
  {
   "cell_type": "code",
   "execution_count": 94,
   "metadata": {},
   "outputs": [],
   "source": [
    "df.drop('Age', axis= 1, inplace=True)"
   ]
  },
  {
   "cell_type": "code",
   "execution_count": 95,
   "metadata": {},
   "outputs": [
    {
     "data": {
      "text/html": [
       "<div>\n",
       "<style scoped>\n",
       "    .dataframe tbody tr th:only-of-type {\n",
       "        vertical-align: middle;\n",
       "    }\n",
       "\n",
       "    .dataframe tbody tr th {\n",
       "        vertical-align: top;\n",
       "    }\n",
       "\n",
       "    .dataframe thead th {\n",
       "        text-align: right;\n",
       "    }\n",
       "</style>\n",
       "<table border=\"1\" class=\"dataframe\">\n",
       "  <thead>\n",
       "    <tr style=\"text-align: right;\">\n",
       "      <th></th>\n",
       "      <th>Rank</th>\n",
       "      <th>Name</th>\n",
       "      <th>Net Worth</th>\n",
       "      <th>Source</th>\n",
       "      <th>Country of Citizenship</th>\n",
       "      <th>AGE</th>\n",
       "    </tr>\n",
       "  </thead>\n",
       "  <tbody>\n",
       "    <tr>\n",
       "      <th>0</th>\n",
       "      <td>#1</td>\n",
       "      <td>Jeff Bezos</td>\n",
       "      <td>112.0</td>\n",
       "      <td>Amazon</td>\n",
       "      <td>United States</td>\n",
       "      <td>54.0</td>\n",
       "    </tr>\n",
       "    <tr>\n",
       "      <th>1</th>\n",
       "      <td>#2</td>\n",
       "      <td>Bill Gates</td>\n",
       "      <td>90.0</td>\n",
       "      <td>Microsoft</td>\n",
       "      <td>United States</td>\n",
       "      <td>62.0</td>\n",
       "    </tr>\n",
       "    <tr>\n",
       "      <th>2</th>\n",
       "      <td>#3</td>\n",
       "      <td>Warren Buffett</td>\n",
       "      <td>84.0</td>\n",
       "      <td>Berkshire Hathaway</td>\n",
       "      <td>United States</td>\n",
       "      <td>87.0</td>\n",
       "    </tr>\n",
       "    <tr>\n",
       "      <th>3</th>\n",
       "      <td>#4</td>\n",
       "      <td>Bernard Arnault</td>\n",
       "      <td>72.0</td>\n",
       "      <td>LVMH</td>\n",
       "      <td>France</td>\n",
       "      <td>69.0</td>\n",
       "    </tr>\n",
       "    <tr>\n",
       "      <th>4</th>\n",
       "      <td>#5</td>\n",
       "      <td>Mark Zuckerberg</td>\n",
       "      <td>71.0</td>\n",
       "      <td>Facebook</td>\n",
       "      <td>United States</td>\n",
       "      <td>34.0</td>\n",
       "    </tr>\n",
       "  </tbody>\n",
       "</table>\n",
       "</div>"
      ],
      "text/plain": [
       "  Rank             Name  Net Worth              Source Country of Citizenship  \\\n",
       "0   #1       Jeff Bezos      112.0              Amazon          United States   \n",
       "1   #2       Bill Gates       90.0           Microsoft          United States   \n",
       "2   #3   Warren Buffett       84.0  Berkshire Hathaway          United States   \n",
       "3   #4  Bernard Arnault       72.0                LVMH                 France   \n",
       "4   #5  Mark Zuckerberg       71.0            Facebook          United States   \n",
       "\n",
       "    AGE  \n",
       "0  54.0  \n",
       "1  62.0  \n",
       "2  87.0  \n",
       "3  69.0  \n",
       "4  34.0  "
      ]
     },
     "execution_count": 95,
     "metadata": {},
     "output_type": "execute_result"
    }
   ],
   "source": [
    "df.head()"
   ]
  },
  {
   "cell_type": "code",
   "execution_count": 204,
   "metadata": {},
   "outputs": [],
   "source": [
    "countries_code = pd.read_csv('https://raw.githubusercontent.com/plotly/datasets/master/2014_world_gdp_with_codes.csv')"
   ]
  },
  {
   "cell_type": "code",
   "execution_count": 205,
   "metadata": {},
   "outputs": [],
   "source": [
    "countries_code.drop('GDP (BILLIONS)', axis = 1, inplace=True)"
   ]
  },
  {
   "cell_type": "code",
   "execution_count": 105,
   "metadata": {},
   "outputs": [],
   "source": [
    "table = df.groupby('Country of Citizenship')['Net Worth'].agg('sum').sort_values(ascending=False)"
   ]
  },
  {
   "cell_type": "code",
   "execution_count": 182,
   "metadata": {},
   "outputs": [],
   "source": [
    "table1 = df.groupby('Country of Citizenship').agg({'Net Worth': 'sum', 'Name': 'count', 'AGE': 'mean'})"
   ]
  },
  {
   "cell_type": "code",
   "execution_count": 183,
   "metadata": {},
   "outputs": [],
   "source": [
    "table1 = table1.reset_index()"
   ]
  },
  {
   "cell_type": "code",
   "execution_count": 185,
   "metadata": {},
   "outputs": [],
   "source": [
    "table1 = table1.merge(countries_code, how='inner', left_on='Country of Citizenship', right_on='COUNTRY')"
   ]
  },
  {
   "cell_type": "code",
   "execution_count": 199,
   "metadata": {},
   "outputs": [],
   "source": [
    "table1['AGE'] = table1['AGE'].astype(int)"
   ]
  },
  {
   "cell_type": "code",
   "execution_count": 190,
   "metadata": {},
   "outputs": [],
   "source": [
    "table1.drop('Country of Citizenship', axis = 1, inplace=True)"
   ]
  },
  {
   "cell_type": "code",
   "execution_count": 200,
   "metadata": {},
   "outputs": [],
   "source": [
    "table1['text'] = table1['COUNTRY'].astype(str) + '<br>' + '# of Billioners: ' + table1['Name'].astype(str) + '<br>' + 'Average Age: ' + table1['AGE'].astype(str)"
   ]
  },
  {
   "cell_type": "code",
   "execution_count": 201,
   "metadata": {},
   "outputs": [
    {
     "data": {
      "text/html": [
       "<div>\n",
       "<style scoped>\n",
       "    .dataframe tbody tr th:only-of-type {\n",
       "        vertical-align: middle;\n",
       "    }\n",
       "\n",
       "    .dataframe tbody tr th {\n",
       "        vertical-align: top;\n",
       "    }\n",
       "\n",
       "    .dataframe thead th {\n",
       "        text-align: right;\n",
       "    }\n",
       "</style>\n",
       "<table border=\"1\" class=\"dataframe\">\n",
       "  <thead>\n",
       "    <tr style=\"text-align: right;\">\n",
       "      <th></th>\n",
       "      <th>Net Worth</th>\n",
       "      <th>Name</th>\n",
       "      <th>AGE</th>\n",
       "      <th>COUNTRY</th>\n",
       "      <th>CODE</th>\n",
       "      <th>text</th>\n",
       "    </tr>\n",
       "  </thead>\n",
       "  <tbody>\n",
       "    <tr>\n",
       "      <th>0</th>\n",
       "      <td>4.0</td>\n",
       "      <td>1</td>\n",
       "      <td>74</td>\n",
       "      <td>Algeria</td>\n",
       "      <td>DZA</td>\n",
       "      <td>Algeria&lt;br&gt;# of Billioners: 1&lt;br&gt;Average Age: 74</td>\n",
       "    </tr>\n",
       "    <tr>\n",
       "      <th>1</th>\n",
       "      <td>2.6</td>\n",
       "      <td>1</td>\n",
       "      <td>45</td>\n",
       "      <td>Angola</td>\n",
       "      <td>AGO</td>\n",
       "      <td>Angola&lt;br&gt;# of Billioners: 1&lt;br&gt;Average Age: 45</td>\n",
       "    </tr>\n",
       "    <tr>\n",
       "      <th>2</th>\n",
       "      <td>15.6</td>\n",
       "      <td>9</td>\n",
       "      <td>65</td>\n",
       "      <td>Argentina</td>\n",
       "      <td>ARG</td>\n",
       "      <td>Argentina&lt;br&gt;# of Billioners: 9&lt;br&gt;Average Age...</td>\n",
       "    </tr>\n",
       "    <tr>\n",
       "      <th>3</th>\n",
       "      <td>114.9</td>\n",
       "      <td>40</td>\n",
       "      <td>65</td>\n",
       "      <td>Australia</td>\n",
       "      <td>AUS</td>\n",
       "      <td>Australia&lt;br&gt;# of Billioners: 40&lt;br&gt;Average Ag...</td>\n",
       "    </tr>\n",
       "    <tr>\n",
       "      <th>4</th>\n",
       "      <td>43.4</td>\n",
       "      <td>8</td>\n",
       "      <td>67</td>\n",
       "      <td>Austria</td>\n",
       "      <td>AUT</td>\n",
       "      <td>Austria&lt;br&gt;# of Billioners: 8&lt;br&gt;Average Age: 67</td>\n",
       "    </tr>\n",
       "  </tbody>\n",
       "</table>\n",
       "</div>"
      ],
      "text/plain": [
       "   Net Worth  Name  AGE    COUNTRY CODE  \\\n",
       "0        4.0     1   74    Algeria  DZA   \n",
       "1        2.6     1   45     Angola  AGO   \n",
       "2       15.6     9   65  Argentina  ARG   \n",
       "3      114.9    40   65  Australia  AUS   \n",
       "4       43.4     8   67    Austria  AUT   \n",
       "\n",
       "                                                text  \n",
       "0   Algeria<br># of Billioners: 1<br>Average Age: 74  \n",
       "1    Angola<br># of Billioners: 1<br>Average Age: 45  \n",
       "2  Argentina<br># of Billioners: 9<br>Average Age...  \n",
       "3  Australia<br># of Billioners: 40<br>Average Ag...  \n",
       "4   Austria<br># of Billioners: 8<br>Average Age: 67  "
      ]
     },
     "execution_count": 201,
     "metadata": {},
     "output_type": "execute_result"
    }
   ],
   "source": [
    "table1.head()"
   ]
  },
  {
   "cell_type": "code",
   "execution_count": 202,
   "metadata": {},
   "outputs": [
    {
     "data": {
      "text/plain": [
       "'file://C:\\\\Users\\\\Mi Notebook\\\\metgqpscs1.html'"
      ]
     },
     "execution_count": 202,
     "metadata": {},
     "output_type": "execute_result"
    }
   ],
   "source": [
    "data = [ dict(\n",
    "        type = 'choropleth',\n",
    "        locations = table1['CODE'],\n",
    "        z = table1['Net Worth'],\n",
    "        text = table1['text'],\n",
    "        colorscale = 'heatmap',\n",
    "        autocolorscale = False,\n",
    "        reversescale = False,\n",
    "        marker = dict(\n",
    "            line = dict (\n",
    "                color = 'rgb(180,180,180)',\n",
    "                width = 0.5\n",
    "            ) ),\n",
    "        colorbar = dict(title = 'Net Worth in bln US Dollars'),\n",
    "      ) ]\n",
    "\n",
    "layout = dict(\n",
    "    title = 'Billioners Total Capital per Country',\n",
    "    geo = dict(\n",
    "        showframe = False,\n",
    "        showcoastlines = False,\n",
    "        projection = dict(\n",
    "            type = 'Mercator'\n",
    "        )\n",
    "    )\n",
    ")\n",
    "\n",
    "fig = dict( data=data, layout=layout )\n",
    "plot(fig, validate=False, filename='metgqpscs1.html')"
   ]
  },
  {
   "cell_type": "code",
   "execution_count": null,
   "metadata": {},
   "outputs": [],
   "source": []
  }
 ],
 "metadata": {
  "kernelspec": {
   "display_name": "Python 3",
   "language": "python",
   "name": "python3"
  },
  "language_info": {
   "codemirror_mode": {
    "name": "ipython",
    "version": 3
   },
   "file_extension": ".py",
   "mimetype": "text/x-python",
   "name": "python",
   "nbconvert_exporter": "python",
   "pygments_lexer": "ipython3",
   "version": "3.6.5"
  }
 },
 "nbformat": 4,
 "nbformat_minor": 2
}
